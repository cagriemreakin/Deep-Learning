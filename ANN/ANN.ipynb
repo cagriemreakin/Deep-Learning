{
 "cells": [
  {
   "cell_type": "code",
   "execution_count": 1,
   "metadata": {
    "collapsed": true
   },
   "outputs": [],
   "source": [
    "import numpy as np\n",
    "import pandas as pd\n",
    "import matplotlib.pyplot as plt"
   ]
  },
  {
   "cell_type": "code",
   "execution_count": 2,
   "metadata": {},
   "outputs": [
    {
     "data": {
      "text/html": [
       "<div>\n",
       "<style>\n",
       "    .dataframe thead tr:only-child th {\n",
       "        text-align: right;\n",
       "    }\n",
       "\n",
       "    .dataframe thead th {\n",
       "        text-align: left;\n",
       "    }\n",
       "\n",
       "    .dataframe tbody tr th {\n",
       "        vertical-align: top;\n",
       "    }\n",
       "</style>\n",
       "<table border=\"1\" class=\"dataframe\">\n",
       "  <thead>\n",
       "    <tr style=\"text-align: right;\">\n",
       "      <th></th>\n",
       "      <th>RowNumber</th>\n",
       "      <th>CustomerId</th>\n",
       "      <th>Surname</th>\n",
       "      <th>CreditScore</th>\n",
       "      <th>Geography</th>\n",
       "      <th>Gender</th>\n",
       "      <th>Age</th>\n",
       "      <th>Tenure</th>\n",
       "      <th>Balance</th>\n",
       "      <th>NumOfProducts</th>\n",
       "      <th>HasCrCard</th>\n",
       "      <th>IsActiveMember</th>\n",
       "      <th>EstimatedSalary</th>\n",
       "      <th>Exited</th>\n",
       "    </tr>\n",
       "  </thead>\n",
       "  <tbody>\n",
       "    <tr>\n",
       "      <th>0</th>\n",
       "      <td>1</td>\n",
       "      <td>15634602</td>\n",
       "      <td>Hargrave</td>\n",
       "      <td>619</td>\n",
       "      <td>France</td>\n",
       "      <td>Female</td>\n",
       "      <td>42</td>\n",
       "      <td>2</td>\n",
       "      <td>0.00</td>\n",
       "      <td>1</td>\n",
       "      <td>1</td>\n",
       "      <td>1</td>\n",
       "      <td>101348.88</td>\n",
       "      <td>1</td>\n",
       "    </tr>\n",
       "    <tr>\n",
       "      <th>1</th>\n",
       "      <td>2</td>\n",
       "      <td>15647311</td>\n",
       "      <td>Hill</td>\n",
       "      <td>608</td>\n",
       "      <td>Spain</td>\n",
       "      <td>Female</td>\n",
       "      <td>41</td>\n",
       "      <td>1</td>\n",
       "      <td>83807.86</td>\n",
       "      <td>1</td>\n",
       "      <td>0</td>\n",
       "      <td>1</td>\n",
       "      <td>112542.58</td>\n",
       "      <td>0</td>\n",
       "    </tr>\n",
       "    <tr>\n",
       "      <th>2</th>\n",
       "      <td>3</td>\n",
       "      <td>15619304</td>\n",
       "      <td>Onio</td>\n",
       "      <td>502</td>\n",
       "      <td>France</td>\n",
       "      <td>Female</td>\n",
       "      <td>42</td>\n",
       "      <td>8</td>\n",
       "      <td>159660.80</td>\n",
       "      <td>3</td>\n",
       "      <td>1</td>\n",
       "      <td>0</td>\n",
       "      <td>113931.57</td>\n",
       "      <td>1</td>\n",
       "    </tr>\n",
       "    <tr>\n",
       "      <th>3</th>\n",
       "      <td>4</td>\n",
       "      <td>15701354</td>\n",
       "      <td>Boni</td>\n",
       "      <td>699</td>\n",
       "      <td>France</td>\n",
       "      <td>Female</td>\n",
       "      <td>39</td>\n",
       "      <td>1</td>\n",
       "      <td>0.00</td>\n",
       "      <td>2</td>\n",
       "      <td>0</td>\n",
       "      <td>0</td>\n",
       "      <td>93826.63</td>\n",
       "      <td>0</td>\n",
       "    </tr>\n",
       "    <tr>\n",
       "      <th>4</th>\n",
       "      <td>5</td>\n",
       "      <td>15737888</td>\n",
       "      <td>Mitchell</td>\n",
       "      <td>850</td>\n",
       "      <td>Spain</td>\n",
       "      <td>Female</td>\n",
       "      <td>43</td>\n",
       "      <td>2</td>\n",
       "      <td>125510.82</td>\n",
       "      <td>1</td>\n",
       "      <td>1</td>\n",
       "      <td>1</td>\n",
       "      <td>79084.10</td>\n",
       "      <td>0</td>\n",
       "    </tr>\n",
       "  </tbody>\n",
       "</table>\n",
       "</div>"
      ],
      "text/plain": [
       "   RowNumber  CustomerId   Surname  CreditScore Geography  Gender  Age  \\\n",
       "0          1    15634602  Hargrave          619    France  Female   42   \n",
       "1          2    15647311      Hill          608     Spain  Female   41   \n",
       "2          3    15619304      Onio          502    France  Female   42   \n",
       "3          4    15701354      Boni          699    France  Female   39   \n",
       "4          5    15737888  Mitchell          850     Spain  Female   43   \n",
       "\n",
       "   Tenure    Balance  NumOfProducts  HasCrCard  IsActiveMember  \\\n",
       "0       2       0.00              1          1               1   \n",
       "1       1   83807.86              1          0               1   \n",
       "2       8  159660.80              3          1               0   \n",
       "3       1       0.00              2          0               0   \n",
       "4       2  125510.82              1          1               1   \n",
       "\n",
       "   EstimatedSalary  Exited  \n",
       "0        101348.88       1  \n",
       "1        112542.58       0  \n",
       "2        113931.57       1  \n",
       "3         93826.63       0  \n",
       "4         79084.10       0  "
      ]
     },
     "execution_count": 2,
     "metadata": {},
     "output_type": "execute_result"
    }
   ],
   "source": [
    "dataset = pd.read_csv(\"musteri_kaybi_modellemesi.csv\")\n",
    "dataset.head()"
   ]
  },
  {
   "cell_type": "code",
   "execution_count": 3,
   "metadata": {
    "collapsed": true
   },
   "outputs": [],
   "source": [
    "''' RowNumber, CustomerId ve Surname'in\n",
    "    sonuca bir etkisi olmayacağı için \n",
    "    eğitimde kullanmıyoruz.'''\n",
    "\n",
    "X = dataset.iloc[:,3:13].values\n",
    "y = dataset.iloc[:,13].values"
   ]
  },
  {
   "cell_type": "code",
   "execution_count": 4,
   "metadata": {},
   "outputs": [
    {
     "name": "stdout",
     "output_type": "stream",
     "text": [
      "LabelEncoder Uygulamadan onceki X degerleri: \n",
      "\n",
      "[[619 'France' 'Female' ..., 1 1 101348.88]\n",
      " [608 'Spain' 'Female' ..., 0 1 112542.58]\n",
      " [502 'France' 'Female' ..., 1 0 113931.57]\n",
      " ..., \n",
      " [709 'France' 'Female' ..., 0 1 42085.58]\n",
      " [772 'Germany' 'Male' ..., 1 0 92888.52]\n",
      " [792 'France' 'Female' ..., 1 0 38190.78]]\n",
      "\n",
      "\n",
      "LabelEncoder Uygulandıktan sonraki X degerleri: \n",
      "\n",
      "[[619 0 0 ..., 1 1 101348.88]\n",
      " [608 2 0 ..., 0 1 112542.58]\n",
      " [502 0 0 ..., 1 0 113931.57]\n",
      " ..., \n",
      " [709 0 0 ..., 0 1 42085.58]\n",
      " [772 1 1 ..., 1 0 92888.52]\n",
      " [792 0 0 ..., 1 0 38190.78]]\n",
      "\n",
      "\n",
      "OneHotEncoder Uygulandıktan sonraki X[1] degerleri: \n",
      " \n",
      "[[  0.00000000e+00   0.00000000e+00   6.19000000e+02 ...,   1.00000000e+00\n",
      "    1.00000000e+00   1.01348880e+05]\n",
      " [  0.00000000e+00   1.00000000e+00   6.08000000e+02 ...,   0.00000000e+00\n",
      "    1.00000000e+00   1.12542580e+05]\n",
      " [  0.00000000e+00   0.00000000e+00   5.02000000e+02 ...,   1.00000000e+00\n",
      "    0.00000000e+00   1.13931570e+05]\n",
      " ..., \n",
      " [  0.00000000e+00   0.00000000e+00   7.09000000e+02 ...,   0.00000000e+00\n",
      "    1.00000000e+00   4.20855800e+04]\n",
      " [  1.00000000e+00   0.00000000e+00   7.72000000e+02 ...,   1.00000000e+00\n",
      "    0.00000000e+00   9.28885200e+04]\n",
      " [  0.00000000e+00   0.00000000e+00   7.92000000e+02 ...,   1.00000000e+00\n",
      "    0.00000000e+00   3.81907800e+04]]\n",
      "\n",
      "\n"
     ]
    }
   ],
   "source": [
    "# Kategorik Veriler\n",
    "from sklearn.preprocessing import LabelEncoder,OneHotEncoder\n",
    "\n",
    "# Geography\n",
    "print(\"LabelEncoder Uygulamadan onceki X degerleri: \\n\")\n",
    "print(X)\n",
    "print (\"\\n\")\n",
    "labelEncoder_X1 = LabelEncoder()\n",
    "X[:,1] = labelEncoder_X1.fit_transform(X[:,1])\n",
    "\n",
    "# Gender\n",
    "labelEncoder_X2 = LabelEncoder()\n",
    "X[:,2] = labelEncoder_X2.fit_transform(X[:,2])\n",
    "print(\"LabelEncoder Uygulandıktan sonraki X degerleri: \\n\")\n",
    "print(X)\n",
    "print (\"\\n\")\n",
    "\n",
    "ohe = OneHotEncoder(categorical_features = [1])\n",
    "X = ohe.fit_transform(X).toarray()\n",
    "# Dummy Variable tuzağından kaçınmak için 1 değeri  drop ediyoruz.\n",
    "X = X[:,1:]\n",
    "\n",
    "print(\"OneHotEncoder Uygulandıktan sonraki X[1] degerleri: \\n \")\n",
    "print(X)\n",
    "print (\"\\n\")\n",
    "\n"
   ]
  },
  {
   "cell_type": "code",
   "execution_count": 5,
   "metadata": {
    "collapsed": true
   },
   "outputs": [],
   "source": [
    "# Eğitim ve Veri Seti Olarak Ayırma \n",
    "\n",
    "from sklearn.model_selection import train_test_split\n",
    "X_train, X_test,y_train,y_test = train_test_split(X,y, test_size = 0.2, random_state = 0)"
   ]
  },
  {
   "cell_type": "code",
   "execution_count": 6,
   "metadata": {
    "collapsed": true
   },
   "outputs": [],
   "source": [
    "# Verileri Belirli Bir Aralığa Sokma\n",
    "\n",
    "from sklearn.preprocessing import StandardScaler\n",
    "sc = StandardScaler()\n",
    "X_train = sc.fit_transform(X_train) \n",
    "X_test = sc.transform(X_test)"
   ]
  },
  {
   "cell_type": "code",
   "execution_count": 7,
   "metadata": {},
   "outputs": [
    {
     "name": "stderr",
     "output_type": "stream",
     "text": [
      "Using TensorFlow backend.\n"
     ]
    }
   ],
   "source": [
    "# Part 2 - ANN!\n",
    "\n",
    "from keras.models import Sequential # ANN'i baslatir\n",
    "from keras.layers import Dense # Dense layer olusturmak icin kullanılır"
   ]
  },
  {
   "cell_type": "code",
   "execution_count": 8,
   "metadata": {
    "collapsed": true
   },
   "outputs": [],
   "source": [
    "# ANN'i baslatma\n",
    "classifier = Sequential()"
   ]
  },
  {
   "cell_type": "code",
   "execution_count": 9,
   "metadata": {
    "collapsed": true
   },
   "outputs": [],
   "source": [
    "# İlk katmanın oluşturulması\n",
    "# Units: Node sayısı. Input sayısı + Output Sayısının yarısı. \n",
    "# kernel_initializer: Ağırlıklara random değerler atar.\n",
    "# Activation: Relu\n",
    "\n",
    "classifier.add(Dense(units = 6, kernel_initializer = 'uniform', activation = 'relu', input_dim = 11))"
   ]
  },
  {
   "cell_type": "code",
   "execution_count": 10,
   "metadata": {
    "collapsed": true
   },
   "outputs": [],
   "source": [
    "# Gizli katmanın eklenmesi\n",
    "classifier.add(Dense(units = 6, kernel_initializer = 'uniform', activation = 'relu'))"
   ]
  },
  {
   "cell_type": "code",
   "execution_count": 11,
   "metadata": {
    "collapsed": true
   },
   "outputs": [],
   "source": [
    "# Çıktı katmanını ekleme\n",
    "# Units: Müsteri bankayı terk edecek mi etmeyecek mi? Binary Outcome olduğu için 1 node'a ihtiyaç var.\n",
    "# Activation: Sigmoid -> Binary outcome' lar için kullanılır.\n",
    "classifier.add(Dense(units = 1, kernel_initializer = 'uniform', activation = 'sigmoid'))"
   ]
  },
  {
   "cell_type": "code",
   "execution_count": 12,
   "metadata": {
    "collapsed": true
   },
   "outputs": [],
   "source": [
    "# ANN'i derleme\n",
    "# Optimizer: Gradient Descent -> Adam\n",
    "# Loss: Binary outcome olduğu için binary_crossentropy olarak seçtik. Fakat çıktı değerimiz 2 den fazla olsaydı\n",
    "#       categorical_crossentropy seçecektik.\n",
    "classifier.compile(optimizer = 'adam', loss = 'binary_crossentropy', metrics = ['accuracy'])"
   ]
  },
  {
   "cell_type": "code",
   "execution_count": 13,
   "metadata": {},
   "outputs": [
    {
     "name": "stdout",
     "output_type": "stream",
     "text": [
      "Epoch 1/100\n",
      "8000/8000 [==============================] - 1s - loss: 0.4878 - acc: 0.7954     \n",
      "Epoch 2/100\n",
      "8000/8000 [==============================] - 1s - loss: 0.4280 - acc: 0.7960     \n",
      "Epoch 3/100\n",
      "8000/8000 [==============================] - 1s - loss: 0.4231 - acc: 0.7969     \n",
      "Epoch 4/100\n",
      "8000/8000 [==============================] - 1s - loss: 0.4190 - acc: 0.8209     \n",
      "Epoch 5/100\n",
      "8000/8000 [==============================] - 1s - loss: 0.4165 - acc: 0.8250     \n",
      "Epoch 6/100\n",
      "8000/8000 [==============================] - 1s - loss: 0.4145 - acc: 0.8282     \n",
      "Epoch 7/100\n",
      "8000/8000 [==============================] - 1s - loss: 0.4131 - acc: 0.8300     \n",
      "Epoch 8/100\n",
      "8000/8000 [==============================] - 1s - loss: 0.4116 - acc: 0.8321     \n",
      "Epoch 9/100\n",
      "8000/8000 [==============================] - 1s - loss: 0.4104 - acc: 0.8327     \n",
      "Epoch 10/100\n",
      "8000/8000 [==============================] - 1s - loss: 0.4093 - acc: 0.8339     \n",
      "Epoch 11/100\n",
      "8000/8000 [==============================] - 1s - loss: 0.4084 - acc: 0.8341     \n",
      "Epoch 12/100\n",
      "8000/8000 [==============================] - 1s - loss: 0.4075 - acc: 0.8340     \n",
      "Epoch 13/100\n",
      "8000/8000 [==============================] - 1s - loss: 0.4067 - acc: 0.8335     \n",
      "Epoch 14/100\n",
      "8000/8000 [==============================] - 1s - loss: 0.4061 - acc: 0.8341     \n",
      "Epoch 15/100\n",
      "8000/8000 [==============================] - 1s - loss: 0.4058 - acc: 0.8332     \n",
      "Epoch 16/100\n",
      "8000/8000 [==============================] - 1s - loss: 0.4052 - acc: 0.8334     \n",
      "Epoch 17/100\n",
      "8000/8000 [==============================] - 1s - loss: 0.4043 - acc: 0.8342     \n",
      "Epoch 18/100\n",
      "8000/8000 [==============================] - 1s - loss: 0.4041 - acc: 0.8339     \n",
      "Epoch 19/100\n",
      "8000/8000 [==============================] - 1s - loss: 0.4037 - acc: 0.8350     \n",
      "Epoch 20/100\n",
      "8000/8000 [==============================] - 1s - loss: 0.4035 - acc: 0.8346     \n",
      "Epoch 21/100\n",
      "8000/8000 [==============================] - 1s - loss: 0.4032 - acc: 0.8357     \n",
      "Epoch 22/100\n",
      "8000/8000 [==============================] - 1s - loss: 0.4033 - acc: 0.8342     \n",
      "Epoch 23/100\n",
      "8000/8000 [==============================] - 1s - loss: 0.4029 - acc: 0.8359     \n",
      "Epoch 24/100\n",
      "8000/8000 [==============================] - 1s - loss: 0.4026 - acc: 0.8356     \n",
      "Epoch 25/100\n",
      "8000/8000 [==============================] - 1s - loss: 0.4025 - acc: 0.8350     \n",
      "Epoch 26/100\n",
      "8000/8000 [==============================] - 1s - loss: 0.4020 - acc: 0.8330     \n",
      "Epoch 27/100\n",
      "8000/8000 [==============================] - 1s - loss: 0.4019 - acc: 0.8344     \n",
      "Epoch 28/100\n",
      "8000/8000 [==============================] - 1s - loss: 0.4018 - acc: 0.8351     \n",
      "Epoch 29/100\n",
      "8000/8000 [==============================] - 1s - loss: 0.4010 - acc: 0.8339     \n",
      "Epoch 30/100\n",
      "8000/8000 [==============================] - 1s - loss: 0.4017 - acc: 0.8349     \n",
      "Epoch 31/100\n",
      "8000/8000 [==============================] - 1s - loss: 0.4006 - acc: 0.8345     \n",
      "Epoch 32/100\n",
      "8000/8000 [==============================] - 1s - loss: 0.4015 - acc: 0.8357     \n",
      "Epoch 33/100\n",
      "8000/8000 [==============================] - 1s - loss: 0.4010 - acc: 0.8344     \n",
      "Epoch 34/100\n",
      "8000/8000 [==============================] - 1s - loss: 0.4012 - acc: 0.8334     \n",
      "Epoch 35/100\n",
      "8000/8000 [==============================] - 1s - loss: 0.4012 - acc: 0.8354     \n",
      "Epoch 36/100\n",
      "8000/8000 [==============================] - 1s - loss: 0.4012 - acc: 0.8362     \n",
      "Epoch 37/100\n",
      "8000/8000 [==============================] - 1s - loss: 0.4013 - acc: 0.8355     \n",
      "Epoch 38/100\n",
      "8000/8000 [==============================] - 1s - loss: 0.4010 - acc: 0.8339     \n",
      "Epoch 39/100\n",
      "8000/8000 [==============================] - 1s - loss: 0.4009 - acc: 0.8357     \n",
      "Epoch 40/100\n",
      "8000/8000 [==============================] - 1s - loss: 0.4009 - acc: 0.8349     \n",
      "Epoch 41/100\n",
      "8000/8000 [==============================] - 1s - loss: 0.4008 - acc: 0.8345     \n",
      "Epoch 42/100\n",
      "8000/8000 [==============================] - 1s - loss: 0.4009 - acc: 0.8344     \n",
      "Epoch 43/100\n",
      "8000/8000 [==============================] - 1s - loss: 0.4003 - acc: 0.8349     \n",
      "Epoch 44/100\n",
      "8000/8000 [==============================] - 1s - loss: 0.4002 - acc: 0.8370     \n",
      "Epoch 45/100\n",
      "8000/8000 [==============================] - 1s - loss: 0.4002 - acc: 0.8356     \n",
      "Epoch 46/100\n",
      "8000/8000 [==============================] - 1s - loss: 0.4004 - acc: 0.8375     \n",
      "Epoch 47/100\n",
      "8000/8000 [==============================] - 1s - loss: 0.4006 - acc: 0.8351     \n",
      "Epoch 48/100\n",
      "8000/8000 [==============================] - 1s - loss: 0.4005 - acc: 0.8356     \n",
      "Epoch 49/100\n",
      "8000/8000 [==============================] - 1s - loss: 0.4000 - acc: 0.8356     \n",
      "Epoch 50/100\n",
      "8000/8000 [==============================] - 1s - loss: 0.4004 - acc: 0.8352     \n",
      "Epoch 51/100\n",
      "8000/8000 [==============================] - 1s - loss: 0.3999 - acc: 0.8374     \n",
      "Epoch 52/100\n",
      "8000/8000 [==============================] - 1s - loss: 0.4004 - acc: 0.8352     \n",
      "Epoch 53/100\n",
      "8000/8000 [==============================] - 1s - loss: 0.4003 - acc: 0.8357     \n",
      "Epoch 54/100\n",
      "8000/8000 [==============================] - 1s - loss: 0.4002 - acc: 0.8344     \n",
      "Epoch 55/100\n",
      "8000/8000 [==============================] - 1s - loss: 0.4003 - acc: 0.8369     \n",
      "Epoch 56/100\n",
      "8000/8000 [==============================] - 1s - loss: 0.3999 - acc: 0.8370     \n",
      "Epoch 57/100\n",
      "8000/8000 [==============================] - 1s - loss: 0.4000 - acc: 0.8340     \n",
      "Epoch 58/100\n",
      "8000/8000 [==============================] - 1s - loss: 0.4000 - acc: 0.8376     \n",
      "Epoch 59/100\n",
      "8000/8000 [==============================] - 1s - loss: 0.3999 - acc: 0.8340     \n",
      "Epoch 60/100\n",
      "8000/8000 [==============================] - 1s - loss: 0.3997 - acc: 0.8356     \n",
      "Epoch 61/100\n",
      "8000/8000 [==============================] - 1s - loss: 0.3997 - acc: 0.8369     \n",
      "Epoch 62/100\n",
      "8000/8000 [==============================] - 1s - loss: 0.3999 - acc: 0.8346     \n",
      "Epoch 63/100\n",
      "8000/8000 [==============================] - 1s - loss: 0.4000 - acc: 0.8350     \n",
      "Epoch 64/100\n",
      "8000/8000 [==============================] - 1s - loss: 0.3999 - acc: 0.8349     \n",
      "Epoch 65/100\n",
      "8000/8000 [==============================] - 1s - loss: 0.3998 - acc: 0.8349     \n",
      "Epoch 66/100\n",
      "8000/8000 [==============================] - 1s - loss: 0.3999 - acc: 0.8340     \n",
      "Epoch 67/100\n",
      "8000/8000 [==============================] - 1s - loss: 0.3999 - acc: 0.8344     \n",
      "Epoch 68/100\n",
      "8000/8000 [==============================] - 1s - loss: 0.4000 - acc: 0.8351     \n",
      "Epoch 69/100\n",
      "8000/8000 [==============================] - 1s - loss: 0.3995 - acc: 0.8361     \n",
      "Epoch 70/100\n",
      "8000/8000 [==============================] - 1s - loss: 0.4001 - acc: 0.8359     \n",
      "Epoch 71/100\n",
      "8000/8000 [==============================] - 1s - loss: 0.3999 - acc: 0.8349     \n",
      "Epoch 72/100\n",
      "8000/8000 [==============================] - 1s - loss: 0.3999 - acc: 0.8364     \n",
      "Epoch 73/100\n",
      "8000/8000 [==============================] - 1s - loss: 0.3997 - acc: 0.8351     \n",
      "Epoch 74/100\n",
      "8000/8000 [==============================] - 1s - loss: 0.3998 - acc: 0.8350     \n",
      "Epoch 75/100\n",
      "8000/8000 [==============================] - 1s - loss: 0.3998 - acc: 0.8356     \n",
      "Epoch 76/100\n",
      "8000/8000 [==============================] - 1s - loss: 0.3995 - acc: 0.8350     \n",
      "Epoch 77/100\n",
      "8000/8000 [==============================] - 1s - loss: 0.3999 - acc: 0.8352     \n",
      "Epoch 78/100\n",
      "8000/8000 [==============================] - 1s - loss: 0.4000 - acc: 0.8351     \n",
      "Epoch 79/100\n",
      "8000/8000 [==============================] - 1s - loss: 0.3996 - acc: 0.8362     - ETA: 1s - \n",
      "Epoch 80/100\n",
      "8000/8000 [==============================] - 1s - loss: 0.3996 - acc: 0.8361     \n",
      "Epoch 81/100\n",
      "8000/8000 [==============================] - 1s - loss: 0.3998 - acc: 0.8355     \n",
      "Epoch 82/100\n",
      "8000/8000 [==============================] - 1s - loss: 0.3997 - acc: 0.8361     \n",
      "Epoch 83/100\n",
      "8000/8000 [==============================] - 1s - loss: 0.3994 - acc: 0.8362     \n",
      "Epoch 84/100\n",
      "8000/8000 [==============================] - 1s - loss: 0.3993 - acc: 0.8349     \n",
      "Epoch 85/100\n",
      "8000/8000 [==============================] - 1s - loss: 0.3999 - acc: 0.8344     \n",
      "Epoch 86/100\n",
      "8000/8000 [==============================] - 1s - loss: 0.3994 - acc: 0.8355     \n",
      "Epoch 87/100\n"
     ]
    },
    {
     "name": "stdout",
     "output_type": "stream",
     "text": [
      "8000/8000 [==============================] - 1s - loss: 0.3993 - acc: 0.8359     \n",
      "Epoch 88/100\n",
      "8000/8000 [==============================] - 1s - loss: 0.3998 - acc: 0.8369     \n",
      "Epoch 89/100\n",
      "8000/8000 [==============================] - 1s - loss: 0.3994 - acc: 0.8369     \n",
      "Epoch 90/100\n",
      "8000/8000 [==============================] - 1s - loss: 0.3998 - acc: 0.8349     \n",
      "Epoch 91/100\n",
      "8000/8000 [==============================] - 1s - loss: 0.3991 - acc: 0.8350     \n",
      "Epoch 92/100\n",
      "8000/8000 [==============================] - 1s - loss: 0.3994 - acc: 0.8357     \n",
      "Epoch 93/100\n",
      "8000/8000 [==============================] - 1s - loss: 0.3997 - acc: 0.8346     \n",
      "Epoch 94/100\n",
      "8000/8000 [==============================] - 1s - loss: 0.3995 - acc: 0.8365     \n",
      "Epoch 95/100\n",
      "8000/8000 [==============================] - 1s - loss: 0.3992 - acc: 0.8362     \n",
      "Epoch 96/100\n",
      "8000/8000 [==============================] - 1s - loss: 0.3990 - acc: 0.8355     \n",
      "Epoch 97/100\n",
      "8000/8000 [==============================] - 1s - loss: 0.3998 - acc: 0.8351     \n",
      "Epoch 98/100\n",
      "8000/8000 [==============================] - 1s - loss: 0.3993 - acc: 0.8351     \n",
      "Epoch 99/100\n",
      "8000/8000 [==============================] - 1s - loss: 0.3995 - acc: 0.8341     \n",
      "Epoch 100/100\n",
      "8000/8000 [==============================] - 1s - loss: 0.3994 - acc: 0.8346     \n"
     ]
    },
    {
     "data": {
      "text/plain": [
       "<keras.callbacks.History at 0x7fae81731590>"
      ]
     },
     "execution_count": 13,
     "metadata": {},
     "output_type": "execute_result"
    }
   ],
   "source": [
    "# ANN Eğitim\n",
    "classifier.fit(X_train, y_train, batch_size = 10, epochs = 100)"
   ]
  },
  {
   "cell_type": "code",
   "execution_count": 14,
   "metadata": {},
   "outputs": [
    {
     "name": "stdout",
     "output_type": "stream",
     "text": [
      "Test verisi sonuclari: \n",
      "\n"
     ]
    },
    {
     "data": {
      "text/plain": [
       "array([[False],\n",
       "       [False],\n",
       "       [False],\n",
       "       ..., \n",
       "       [False],\n",
       "       [False],\n",
       "       [False]], dtype=bool)"
      ]
     },
     "execution_count": 14,
     "metadata": {},
     "output_type": "execute_result"
    }
   ],
   "source": [
    "# Part 3 - Tahmin yapma ve modelin değerlendirilmesi\n",
    "# Test seti sonuçlarının tahmini\n",
    "\n",
    "y_pred = classifier.predict(X_test)\n",
    "y_pred = (y_pred > 0.5)\n",
    "print(\"Test verisi sonuclari: \\n\")\n",
    "y_pred"
   ]
  },
  {
   "cell_type": "code",
   "execution_count": 15,
   "metadata": {},
   "outputs": [
    {
     "name": "stdout",
     "output_type": "stream",
     "text": [
      "\n",
      " Confusion Matrix: \n",
      "\n",
      "[[1556   39]\n",
      " [ 282  123]]\n"
     ]
    }
   ],
   "source": [
    "# Confusion Matrix\n",
    "from sklearn.metrics import confusion_matrix\n",
    "cm = confusion_matrix(y_test, y_pred)\n",
    "print(\"\\n Confusion Matrix: \\n\")\n",
    "print(cm)"
   ]
  },
  {
   "cell_type": "code",
   "execution_count": 16,
   "metadata": {},
   "outputs": [
    {
     "data": {
      "text/plain": [
       "array([[False]], dtype=bool)"
      ]
     },
     "execution_count": 16,
     "metadata": {},
     "output_type": "execute_result"
    }
   ],
   "source": [
    "\"\"\"Asagidaki bilgilere sahip musteri bankayı terk edecek mi?:\n",
    "Geography: France\n",
    "Credit Score: 600\n",
    "Gender: Female\n",
    "Age: 45\n",
    "Tenure: 3\n",
    "Balance: 75000\n",
    "Number of Products: 2\n",
    "Has Credit Card: Yes\n",
    "Is Active Member: Yes\n",
    "Estimated Salary: 60000\"\"\"\n",
    "\n",
    "predict_customer = classifier.predict(sc.transform(np.array([[0.0, 0, 600, 1, 45, 3, 75000, 2, 1, 1, 60000]])))\n",
    "predict_customer = (predict_customer > 0.5)\n",
    "\n",
    "predict_customer"
   ]
  },
  {
   "cell_type": "code",
   "execution_count": 17,
   "metadata": {
    "collapsed": true
   },
   "outputs": [],
   "source": [
    "# Part 4 - Evaluating, Improving and Tuning the ANN\n",
    "\n",
    "# Evaluating the ANN\n",
    "from keras.wrappers.scikit_learn import KerasClassifier\n",
    "from sklearn.model_selection import cross_val_score"
   ]
  },
  {
   "cell_type": "code",
   "execution_count": 18,
   "metadata": {
    "collapsed": true
   },
   "outputs": [],
   "source": [
    "def build_classifier():\n",
    "    classifier = Sequential()\n",
    "    classifier.add(Dense(units = 6, kernel_initializer = 'uniform', activation = 'relu', input_dim = 11))\n",
    "    classifier.add(Dense(units = 6, kernel_initializer = 'uniform', activation = 'relu'))\n",
    "    classifier.add(Dense(units = 1, kernel_initializer = 'uniform', activation = 'sigmoid'))\n",
    "    classifier.compile(optimizer = 'adam', loss = 'binary_crossentropy', metrics = ['accuracy'])\n",
    "    return classifier"
   ]
  },
  {
   "cell_type": "code",
   "execution_count": 19,
   "metadata": {
    "collapsed": true
   },
   "outputs": [],
   "source": [
    "classifier = KerasClassifier(build_fn = build_classifier, batch_size = 10, epochs = 100)"
   ]
  },
  {
   "cell_type": "code",
   "execution_count": null,
   "metadata": {},
   "outputs": [
    {
     "name": "stdout",
     "output_type": "stream",
     "text": [
      "Epoch 1/100\n",
      "7200/7200 [==============================] - 1s - loss: 0.5042 - acc: 0.7960     \n",
      "Epoch 2/100\n",
      "7200/7200 [==============================] - 1s - loss: 0.4298 - acc: 0.7971     \n",
      "Epoch 3/100\n",
      "7200/7200 [==============================] - 1s - loss: 0.4261 - acc: 0.7971     \n",
      "Epoch 4/100\n",
      "7200/7200 [==============================] - 1s - loss: 0.4223 - acc: 0.7971     \n",
      "Epoch 5/100\n",
      "7200/7200 [==============================] - 1s - loss: 0.4201 - acc: 0.8132     \n",
      "Epoch 6/100\n",
      "7200/7200 [==============================] - 1s - loss: 0.4177 - acc: 0.8204     \n",
      "Epoch 7/100\n",
      "7200/7200 [==============================] - 1s - loss: 0.4160 - acc: 0.8269     \n",
      "Epoch 8/100\n",
      "7200/7200 [==============================] - 1s - loss: 0.4145 - acc: 0.8281     \n",
      "Epoch 9/100\n",
      "7200/7200 [==============================] - 1s - loss: 0.4130 - acc: 0.8314     \n",
      "Epoch 10/100\n",
      "7200/7200 [==============================] - 1s - loss: 0.4112 - acc: 0.8317     \n",
      "Epoch 11/100\n",
      "7200/7200 [==============================] - 1s - loss: 0.4107 - acc: 0.8328     \n",
      "Epoch 12/100\n",
      "7200/7200 [==============================] - 1s - loss: 0.4096 - acc: 0.8328     \n",
      "Epoch 13/100\n",
      "7200/7200 [==============================] - 1s - loss: 0.4085 - acc: 0.8310     \n",
      "Epoch 14/100\n",
      "7200/7200 [==============================] - 1s - loss: 0.4083 - acc: 0.8347     \n",
      "Epoch 15/100\n",
      "7200/7200 [==============================] - 1s - loss: 0.4073 - acc: 0.8326     \n",
      "Epoch 16/100\n",
      "7200/7200 [==============================] - ETA: 0s - loss: 0.4081 - acc: 0.835 - 1s - loss: 0.4072 - acc: 0.8344     \n",
      "Epoch 17/100\n",
      "7200/7200 [==============================] - 1s - loss: 0.4067 - acc: 0.8331     \n",
      "Epoch 18/100\n",
      "7200/7200 [==============================] - 1s - loss: 0.4063 - acc: 0.8333     \n",
      "Epoch 19/100\n",
      "7200/7200 [==============================] - 1s - loss: 0.4059 - acc: 0.8343     \n",
      "Epoch 20/100\n",
      "7200/7200 [==============================] - 1s - loss: 0.4055 - acc: 0.8346     \n",
      "Epoch 21/100\n",
      "7200/7200 [==============================] - 1s - loss: 0.4049 - acc: 0.8340     \n",
      "Epoch 22/100\n",
      "7200/7200 [==============================] - 1s - loss: 0.4045 - acc: 0.8342     \n",
      "Epoch 23/100\n",
      "7200/7200 [==============================] - 1s - loss: 0.4048 - acc: 0.8344     \n",
      "Epoch 24/100\n",
      "7200/7200 [==============================] - 1s - loss: 0.4043 - acc: 0.8354     \n",
      "Epoch 25/100\n",
      "7200/7200 [==============================] - 1s - loss: 0.4041 - acc: 0.8354     \n",
      "Epoch 26/100\n",
      "7200/7200 [==============================] - 1s - loss: 0.4032 - acc: 0.8340     \n",
      "Epoch 27/100\n",
      "7200/7200 [==============================] - 1s - loss: 0.4033 - acc: 0.8350     \n",
      "Epoch 28/100\n",
      "7200/7200 [==============================] - 1s - loss: 0.4031 - acc: 0.8343     \n",
      "Epoch 29/100\n",
      "3860/7200 [===============>..............] - ETA: 0s - loss: 0.4018 - acc: 0.8360"
     ]
    }
   ],
   "source": [
    "accuracies = cross_val_score(estimator = classifier, X = X_train, y = y_train, cv = 10, n_jobs=1)"
   ]
  },
  {
   "cell_type": "code",
   "execution_count": null,
   "metadata": {
    "collapsed": true
   },
   "outputs": [],
   "source": [
    "mean = accuracies.mean()\n",
    "variance = accuracies.std()\n",
    "print(mean)\n",
    "print(variance)"
   ]
  },
  {
   "cell_type": "code",
   "execution_count": null,
   "metadata": {
    "collapsed": true
   },
   "outputs": [],
   "source": [
    "# Doğruluk artırma\n",
    "# Dropout Regularization: Overfitting i azaltmak için\n",
    "\n",
    "# Tuning \n",
    "from keras.wrappers.scikit_learn import KerasClassifier\n",
    "from sklearn.model_selection import GridSearchCV\n",
    "\n",
    "def build_classifier(optimizer):\n",
    "    classifier = Sequential()\n",
    "    classifier.add(Dense(units = 6, kernel_initializer = 'uniform', activation = 'relu', input_dim = 11))\n",
    "    classifier.add(Dense(units = 6, kernel_initializer = 'uniform', activation = 'relu'))\n",
    "    classifier.add(Dense(units = 1, kernel_initializer = 'uniform', activation = 'sigmoid'))\n",
    "    classifier.compile(optimizer = optimizer, loss = 'binary_crossentropy', metrics = ['accuracy'])\n",
    "    return classifier"
   ]
  },
  {
   "cell_type": "code",
   "execution_count": null,
   "metadata": {
    "collapsed": true
   },
   "outputs": [],
   "source": [
    "classifier = KerasClassifier(build_fn = build_classifier)\n",
    "parameters = {'batch_size': [25, 32],\n",
    "              'epochs': [100, 500],\n",
    "              'optimizer': ['adam', 'rmsprop']}"
   ]
  },
  {
   "cell_type": "code",
   "execution_count": null,
   "metadata": {
    "collapsed": true
   },
   "outputs": [],
   "source": [
    "grid_search = GridSearchCV(estimator = classifier,\n",
    "                           param_grid = parameters,\n",
    "                           scoring = 'accuracy',\n",
    "                           cv = 10)"
   ]
  },
  {
   "cell_type": "code",
   "execution_count": null,
   "metadata": {
    "collapsed": true
   },
   "outputs": [],
   "source": [
    "grid_search = grid_search.fit(X_train, y_train)\n",
    "best_parameters = grid_search.best_params_\n",
    "best_accuracy = grid_search.best_score_\n",
    "\n",
    "print(\"\\n Best Parameters: \\n\")\n",
    "print(best_parameters)\n",
    "print(\"\\n Best Accuracy: \\n\")\n",
    "print(best_accuracy)"
   ]
  }
 ],
 "metadata": {
  "kernelspec": {
   "display_name": "Python 2",
   "language": "python",
   "name": "python2"
  },
  "language_info": {
   "codemirror_mode": {
    "name": "ipython",
    "version": 2
   },
   "file_extension": ".py",
   "mimetype": "text/x-python",
   "name": "python",
   "nbconvert_exporter": "python",
   "pygments_lexer": "ipython2",
   "version": "2.7.14"
  }
 },
 "nbformat": 4,
 "nbformat_minor": 2
}
