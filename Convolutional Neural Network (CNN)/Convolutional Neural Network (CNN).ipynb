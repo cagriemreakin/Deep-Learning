{
 "cells": [
  {
   "cell_type": "markdown",
   "metadata": {},
   "source": [
    "# <p style=\"color:blue;text-align:center;font-size:32px\"> Convolutional Neural Network (CNN)</p>"
   ]
  },
  {
   "cell_type": "markdown",
   "metadata": {},
   "source": [
    "<p style=\"text-align: justify;text-justify: inter-word;\">Evrişimli Sinir Ağları (CNN), resim tanıma ve sınıflandırma gibi alanlarda çok etkili olduğu kanıtlanmış olan sinir ağları kategorisidir. CNN'ler, robotlarda ve kendi kendine sürülen otomobillerde görme yeteneği sağlamanın yanı sıra; yüzleri,nesneleri ve trafik işaretlerini belirlemede de başarılı olmuştur. Bu nedenle, günümüzde makine öğrenimi ile ilgilenenlerin çoğu için önemlidir. CNN temelde 4 kısımdan oluşur:</p>\n",
    "<br>\n",
    "<p style=\"color:blue\">\n",
    "1- Convolution<br>\n",
    "2- Non-Linear Activation Function (ReLU)<br>\n",
    "3- Pooling<br>\n",
    "4- Fully Connected Layer<br>\n",
    "</p>"
   ]
  },
  {
   "cell_type": "markdown",
   "metadata": {},
   "source": [
    "## Fei-Fei Li: Resimleri Anlamaları için Bilgisayarları Nasıl Eğitiyoruz ?"
   ]
  },
  {
   "cell_type": "code",
   "execution_count": 14,
   "metadata": {},
   "outputs": [
    {
     "data": {
      "text/html": [
       "<center><iframe src=\"https://www.youtube.com/embed/40riCqvRoMs?\" \n",
       "width=\"560\" height=\"315\" frameborder=\"0\" allowfullscreen></iframe></center>"
      ],
      "text/plain": [
       "<IPython.core.display.HTML object>"
      ]
     },
     "metadata": {},
     "output_type": "display_data"
    }
   ],
   "source": [
    "%%html\n",
    "<center><iframe src=\"https://www.youtube.com/embed/40riCqvRoMs?\" \n",
    "width=\"560\" height=\"315\" frameborder=\"0\" allowfullscreen></iframe></center>"
   ]
  },
  {
   "cell_type": "markdown",
   "metadata": {},
   "source": [
    "## <p style=\"color:purple\">1. Adım: Convolution</p>\n",
    "\n",
    "Standart bir resim, Kırmızı (R), Yeşil (G) ve Mavi (B) olmak üzere üç katmandan oluşur. Her bir katman,  0-255 aralığında piksel değerlerine sahiptir.Bu üç katman8, birbiri üzerine yığılmış 3 tane 2 boyutlu matris olarak düşünebilirsiniz.<br><br>\n",
    "<img src=\"./rgb.png\",width=400,height=400><br><br>\n",
    "\n",
    "\n",
    "CNN'nin birincil amacı verilen resmin özellikleri çıkarmaktır. Girdi verisinin görüntü özelliklerini öğrenerek pikseller arasındaki mekansal ilişkiyi korur."
   ]
  },
  {
   "cell_type": "markdown",
   "metadata": {},
   "source": [
    "### Filtreleme ( Filter, Kernel )\n",
    "* Düzeltme, keskinleştirme ve kenarları belirgin hale getirmek için kullanılır.\n",
    "* Resmin belirli özellikleri üzerinde vurgulama yapılır. Ya da gereksiz özellikleri kaldırmak için görüntü filtrelenir.<br><br>\n",
    "\n",
    "<img src=\"./input1.png\",width=400, height=400><br><br>\n",
    "<img src=\"./conv_animation.gif\" width=400,height=400><br><br>"
   ]
  },
  {
   "cell_type": "markdown",
   "metadata": {},
   "source": [
    "<p style=\"text-align: justify;text-justify: inter-word;\">Input Image' a filtre uygulama işlemi yukarıda gösterilmiştir. Girdi resmi üzerine filtre uygulandıktan sonra, filtre 1 piksel kaydırılır.Filtrenin uygulandığı kısımdaki girdi matris'i ile filtre matrisinde aynı indeksteki elemanların çarpımı bulunur ve Convolved matris'i oluşturulur. </p>"
   ]
  },
  {
   "cell_type": "markdown",
   "metadata": {},
   "source": [
    "<p style=\"text-align: justify;text-justify: inter-word;\">Aşağıda farklı filtrelerin resme etkilerini görebiliriz. Kenar algılama, keskinleştirme ve bulanıklaştırma gibi işlemleri, yalnızca CONVOLUTION işleminden önce filtre matrisimizin sayısal değerlerini değiştirerek gerçekleştirebiliriz . Böylece farklı filtreler bir görüntüden kenarlar, eğriler gibi farklı özellikleri çıkarmamızı sağlar.</p>\n",
    "\n",
    "<img src=\"./kanguru.png\">"
   ]
  },
  {
   "cell_type": "markdown",
   "metadata": {},
   "source": [
    "<p style=\"text-align: justify;text-justify: inter-word;\">CNN, eğitim süreci sırasında bu filtrelerin değerlerini kendisi öğrenir. Fakat eğitim sürecinden önce filtre sayısı, filtre boyutu vb. parametreleri belirtmemiz gerekir. Filtre sayısını artırdıkça, daha fazla görüntü özelliği ayıklanır.Böylece oluşturduğumuz ağ içerinsde, görünmeyen kalıpları tanımada daha iyi olur.</p>"
   ]
  },
  {
   "cell_type": "markdown",
   "metadata": {},
   "source": [
    "## <p style=\"color:purple\">2. Adım: Non-Linear Activation Function (ReLU)</p>"
   ]
  },
  {
   "cell_type": "markdown",
   "metadata": {},
   "source": [
    "<img src=\"relu.png\",width=400 height=400 alt=\"ReLU\">"
   ]
  },
  {
   "cell_type": "markdown",
   "metadata": {},
   "source": [
    "<p style=\"text-align: justify;text-justify: inter-word;\">ReLU özellik haritasındaki (Feature Map) tüm negatif piksel değerlerini sıfır ile değiştirir. ReLU'nun amacı, CNN'imize non-linearity'i (doğrusal olmayan) tanıtmaktı.Çünkü gerçek dünyadaki verilerin çoğu non-linear'dır. Aşağıdaki resim ReLU fonksiyonun, resme uygulandıktan önceki ve sonraki halini net bir şekilde göstermektedir.</p>\n"
   ]
  },
  {
   "cell_type": "markdown",
   "metadata": {},
   "source": [
    "<img src=\"./relu2.png\",width=800 height=800 alt=\"Input\">"
   ]
  },
  {
   "cell_type": "markdown",
   "metadata": {},
   "source": [
    "## <p style=\"color:purple\">3. Adım: Pooling </p>"
   ]
  },
  {
   "cell_type": "markdown",
   "metadata": {},
   "source": [
    "<p style=\"text-align: justify;text-justify: inter-word;\">Pooling katmanları işlem yükünü,hafıza kullanımı, ve parametrelerinin sayısını azaltmak için kullanılır. Böylece girdinin en önemli özellikleri saklanmış olur. 3 tipi vardır: Max, Average, Sum.<br><br>\n",
    "\n",
    "Max Pooling durumunda, 2 × 2'lik özellik seçici tanımlar ve o penceredeki rectified özellik haritasından en büyük elemanı alırız. En büyük öğeyi almak yerine, o penceredeki ortalama öğeleri  veya tüm öğelerin toplamını alabiliriz. Uygulamalar sonucunda, Max Pooling'in daha iyi çalıştığı gözlemlenmiştir. Eğer 2 x 2 Pooling uygularsak, özellik haritası %75 azalmış olur.\n",
    "<br><br>\n",
    "Aşağıda Max Pooling uygulanmış Rectified Feature Map' in son hali en sağ tarafta gösterilmistir. Figür' den de anlaşılacağı üzere, özellik haritasına 2 x 2 lik bir pencere üzerinde Max Pooling uygulanmış ve penceredeki en büyük değerler seçilmiştir.</p>\n",
    "\n"
   ]
  },
  {
   "cell_type": "markdown",
   "metadata": {},
   "source": [
    "<br><img src=\"./maxpool.png\">"
   ]
  },
  {
   "cell_type": "markdown",
   "metadata": {},
   "source": [
    "** <p style=\"text-align: center;text-justify: inter-word;\">Aşağıdaki resimde Rectified Feature Map'i çıkarılmış bir girdinin, Max Pooling uygulandıktan sonraki hali gösterilmiştir.</p>** \n",
    "\n",
    "\n",
    "<img src=\"./pooling.png\",width=600 height=400 alt=\"Input\">"
   ]
  },
  {
   "cell_type": "markdown",
   "metadata": {},
   "source": [
    "** Pooling ile;**\n",
    "* Özellik boyutu daha küçük ve daha yönetilebilir hale gelir.\n",
    "* Ağdaki parametrelerin ve hesaplamaların sayısını azaltır.Böylece  aşırı uygunluğu(overfitting) kontrol eder.\n"
   ]
  },
  {
   "cell_type": "markdown",
   "metadata": {},
   "source": [
    "## <p style=\"color:purple\">4. Adım: Fully Connected Layer </p>"
   ]
  },
  {
   "cell_type": "markdown",
   "metadata": {},
   "source": [
    "Convolution ve Pooling katmanlarının çıktıları, girdinin üst düzey özelliklerini temsil eder. Fully Connceted Layer(tam bağlı katmanlar), bu özellikleri girdi resmini çeşitli sınıflara ayırmak için kullanmaktır. Örneğin, aşağıdaki resim 2 olası çıktıya sahiptir.<br> \n",
    "**Not:** 2 çıktıya sahip sınıflandırma işlemlerinde output layer'a Sigmoid fonksiyonu uygulanır. Eğer çıktı sayısı 2'den fazla ise Softmax uygulanır ve çıkış olasılıklarının toplamı 1'dir.<br><br> \n",
    "[Sigmoid mi Softmax mı ?](https://stats.stackexchange.com/questions/233658/softmax-vs-sigmoid-function-in-logistic-classifier)\n",
    "<img src=\"./fully.jpeg\",width=300 height=300>"
   ]
  },
  {
   "cell_type": "markdown",
   "metadata": {},
   "source": []
  },
  {
   "cell_type": "markdown",
   "metadata": {},
   "source": []
  },
  {
   "cell_type": "markdown",
   "metadata": {},
   "source": []
  },
  {
   "cell_type": "markdown",
   "metadata": {},
   "source": []
  },
  {
   "cell_type": "code",
   "execution_count": 2,
   "metadata": {},
   "outputs": [
    {
     "name": "stderr",
     "output_type": "stream",
     "text": [
      "Using TensorFlow backend.\n"
     ]
    }
   ],
   "source": [
    "from keras.models import Sequential\n",
    "from keras.layers import Convolution2D,MaxPooling2D,Dense,Flatten"
   ]
  },
  {
   "cell_type": "code",
   "execution_count": 3,
   "metadata": {
    "collapsed": true
   },
   "outputs": [],
   "source": [
    "#CNN'i baslatma\n",
    "classifier = Sequential()"
   ]
  }
 ],
 "metadata": {
  "kernelspec": {
   "display_name": "Python 3",
   "language": "python",
   "name": "python3"
  },
  "language_info": {
   "codemirror_mode": {
    "name": "ipython",
    "version": 3
   },
   "file_extension": ".py",
   "mimetype": "text/x-python",
   "name": "python",
   "nbconvert_exporter": "python",
   "pygments_lexer": "ipython3",
   "version": "3.6.3"
  }
 },
 "nbformat": 4,
 "nbformat_minor": 2
}
